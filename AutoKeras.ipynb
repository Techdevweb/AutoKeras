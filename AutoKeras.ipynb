{
  "nbformat": 4,
  "nbformat_minor": 0,
  "metadata": {
    "colab": {
      "provenance": [],
      "authorship_tag": "ABX9TyNBQOZ5B5jhNo5g99xV7TB/",
      "include_colab_link": true
    },
    "kernelspec": {
      "name": "python3",
      "display_name": "Python 3"
    },
    "language_info": {
      "name": "python"
    }
  },
  "cells": [
    {
      "cell_type": "markdown",
      "metadata": {
        "id": "view-in-github",
        "colab_type": "text"
      },
      "source": [
        "<a href=\"https://colab.research.google.com/github/Techdevweb/AutoKeras/blob/main/AutoKeras.ipynb\" target=\"_parent\"><img src=\"https://colab.research.google.com/assets/colab-badge.svg\" alt=\"Open In Colab\"/></a>"
      ]
    },
    {
      "cell_type": "code",
      "execution_count": 5,
      "metadata": {
        "colab": {
          "base_uri": "https://localhost:8080/"
        },
        "id": "4umfONoxMm_m",
        "outputId": "1eac6adc-6aba-4f32-ff6f-fc2b995b825b"
      },
      "outputs": [
        {
          "output_type": "stream",
          "name": "stdout",
          "text": [
            "Looking in indexes: https://pypi.org/simple, https://us-python.pkg.dev/colab-wheels/public/simple/\n",
            "Collecting autokeras\n",
            "  Downloading autokeras-1.0.20-py3-none-any.whl (162 kB)\n",
            "\u001b[K     |████████████████████████████████| 162 kB 5.3 MB/s \n",
            "\u001b[?25hRequirement already satisfied: tensorflow>=2.8.0 in /usr/local/lib/python3.7/dist-packages (from autokeras) (2.8.2+zzzcolab20220719082949)\n",
            "Collecting keras-tuner>=1.1.0\n",
            "  Downloading keras_tuner-1.1.3-py3-none-any.whl (135 kB)\n",
            "\u001b[K     |████████████████████████████████| 135 kB 45.3 MB/s \n",
            "\u001b[?25hRequirement already satisfied: packaging in /usr/local/lib/python3.7/dist-packages (from autokeras) (21.3)\n",
            "Requirement already satisfied: pandas in /usr/local/lib/python3.7/dist-packages (from autokeras) (1.3.5)\n",
            "Requirement already satisfied: numpy in /usr/local/lib/python3.7/dist-packages (from keras-tuner>=1.1.0->autokeras) (1.21.6)\n",
            "Requirement already satisfied: requests in /usr/local/lib/python3.7/dist-packages (from keras-tuner>=1.1.0->autokeras) (2.23.0)\n",
            "Requirement already satisfied: ipython in /usr/local/lib/python3.7/dist-packages (from keras-tuner>=1.1.0->autokeras) (7.9.0)\n",
            "Requirement already satisfied: tensorboard in /usr/local/lib/python3.7/dist-packages (from keras-tuner>=1.1.0->autokeras) (2.8.0)\n",
            "Collecting kt-legacy\n",
            "  Downloading kt_legacy-1.0.4-py3-none-any.whl (9.6 kB)\n",
            "Requirement already satisfied: keras<2.9,>=2.8.0rc0 in /usr/local/lib/python3.7/dist-packages (from tensorflow>=2.8.0->autokeras) (2.8.0)\n",
            "Requirement already satisfied: google-pasta>=0.1.1 in /usr/local/lib/python3.7/dist-packages (from tensorflow>=2.8.0->autokeras) (0.2.0)\n",
            "Requirement already satisfied: wrapt>=1.11.0 in /usr/local/lib/python3.7/dist-packages (from tensorflow>=2.8.0->autokeras) (1.14.1)\n",
            "Requirement already satisfied: setuptools in /usr/local/lib/python3.7/dist-packages (from tensorflow>=2.8.0->autokeras) (57.4.0)\n",
            "Requirement already satisfied: termcolor>=1.1.0 in /usr/local/lib/python3.7/dist-packages (from tensorflow>=2.8.0->autokeras) (1.1.0)\n",
            "Requirement already satisfied: grpcio<2.0,>=1.24.3 in /usr/local/lib/python3.7/dist-packages (from tensorflow>=2.8.0->autokeras) (1.48.1)\n",
            "Requirement already satisfied: keras-preprocessing>=1.1.1 in /usr/local/lib/python3.7/dist-packages (from tensorflow>=2.8.0->autokeras) (1.1.2)\n",
            "Requirement already satisfied: astunparse>=1.6.0 in /usr/local/lib/python3.7/dist-packages (from tensorflow>=2.8.0->autokeras) (1.6.3)\n",
            "Requirement already satisfied: tensorflow-estimator<2.9,>=2.8 in /usr/local/lib/python3.7/dist-packages (from tensorflow>=2.8.0->autokeras) (2.8.0)\n",
            "Requirement already satisfied: absl-py>=0.4.0 in /usr/local/lib/python3.7/dist-packages (from tensorflow>=2.8.0->autokeras) (1.2.0)\n",
            "Requirement already satisfied: flatbuffers>=1.12 in /usr/local/lib/python3.7/dist-packages (from tensorflow>=2.8.0->autokeras) (2.0.7)\n",
            "Requirement already satisfied: libclang>=9.0.1 in /usr/local/lib/python3.7/dist-packages (from tensorflow>=2.8.0->autokeras) (14.0.6)\n",
            "Requirement already satisfied: h5py>=2.9.0 in /usr/local/lib/python3.7/dist-packages (from tensorflow>=2.8.0->autokeras) (3.1.0)\n",
            "Requirement already satisfied: gast>=0.2.1 in /usr/local/lib/python3.7/dist-packages (from tensorflow>=2.8.0->autokeras) (0.5.3)\n",
            "Requirement already satisfied: tensorflow-io-gcs-filesystem>=0.23.1 in /usr/local/lib/python3.7/dist-packages (from tensorflow>=2.8.0->autokeras) (0.26.0)\n",
            "Requirement already satisfied: opt-einsum>=2.3.2 in /usr/local/lib/python3.7/dist-packages (from tensorflow>=2.8.0->autokeras) (3.3.0)\n",
            "Requirement already satisfied: six>=1.12.0 in /usr/local/lib/python3.7/dist-packages (from tensorflow>=2.8.0->autokeras) (1.15.0)\n",
            "Requirement already satisfied: typing-extensions>=3.6.6 in /usr/local/lib/python3.7/dist-packages (from tensorflow>=2.8.0->autokeras) (4.1.1)\n",
            "Requirement already satisfied: protobuf<3.20,>=3.9.2 in /usr/local/lib/python3.7/dist-packages (from tensorflow>=2.8.0->autokeras) (3.17.3)\n",
            "Requirement already satisfied: wheel<1.0,>=0.23.0 in /usr/local/lib/python3.7/dist-packages (from astunparse>=1.6.0->tensorflow>=2.8.0->autokeras) (0.37.1)\n",
            "Requirement already satisfied: cached-property in /usr/local/lib/python3.7/dist-packages (from h5py>=2.9.0->tensorflow>=2.8.0->autokeras) (1.5.2)\n",
            "Requirement already satisfied: markdown>=2.6.8 in /usr/local/lib/python3.7/dist-packages (from tensorboard->keras-tuner>=1.1.0->autokeras) (3.4.1)\n",
            "Requirement already satisfied: google-auth-oauthlib<0.5,>=0.4.1 in /usr/local/lib/python3.7/dist-packages (from tensorboard->keras-tuner>=1.1.0->autokeras) (0.4.6)\n",
            "Requirement already satisfied: google-auth<3,>=1.6.3 in /usr/local/lib/python3.7/dist-packages (from tensorboard->keras-tuner>=1.1.0->autokeras) (1.35.0)\n",
            "Requirement already satisfied: tensorboard-data-server<0.7.0,>=0.6.0 in /usr/local/lib/python3.7/dist-packages (from tensorboard->keras-tuner>=1.1.0->autokeras) (0.6.1)\n",
            "Requirement already satisfied: tensorboard-plugin-wit>=1.6.0 in /usr/local/lib/python3.7/dist-packages (from tensorboard->keras-tuner>=1.1.0->autokeras) (1.8.1)\n",
            "Requirement already satisfied: werkzeug>=0.11.15 in /usr/local/lib/python3.7/dist-packages (from tensorboard->keras-tuner>=1.1.0->autokeras) (1.0.1)\n",
            "Requirement already satisfied: cachetools<5.0,>=2.0.0 in /usr/local/lib/python3.7/dist-packages (from google-auth<3,>=1.6.3->tensorboard->keras-tuner>=1.1.0->autokeras) (4.2.4)\n",
            "Requirement already satisfied: pyasn1-modules>=0.2.1 in /usr/local/lib/python3.7/dist-packages (from google-auth<3,>=1.6.3->tensorboard->keras-tuner>=1.1.0->autokeras) (0.2.8)\n",
            "Requirement already satisfied: rsa<5,>=3.1.4 in /usr/local/lib/python3.7/dist-packages (from google-auth<3,>=1.6.3->tensorboard->keras-tuner>=1.1.0->autokeras) (4.9)\n",
            "Requirement already satisfied: requests-oauthlib>=0.7.0 in /usr/local/lib/python3.7/dist-packages (from google-auth-oauthlib<0.5,>=0.4.1->tensorboard->keras-tuner>=1.1.0->autokeras) (1.3.1)\n",
            "Requirement already satisfied: importlib-metadata>=4.4 in /usr/local/lib/python3.7/dist-packages (from markdown>=2.6.8->tensorboard->keras-tuner>=1.1.0->autokeras) (4.12.0)\n",
            "Requirement already satisfied: zipp>=0.5 in /usr/local/lib/python3.7/dist-packages (from importlib-metadata>=4.4->markdown>=2.6.8->tensorboard->keras-tuner>=1.1.0->autokeras) (3.8.1)\n",
            "Requirement already satisfied: pyasn1<0.5.0,>=0.4.6 in /usr/local/lib/python3.7/dist-packages (from pyasn1-modules>=0.2.1->google-auth<3,>=1.6.3->tensorboard->keras-tuner>=1.1.0->autokeras) (0.4.8)\n",
            "Requirement already satisfied: urllib3!=1.25.0,!=1.25.1,<1.26,>=1.21.1 in /usr/local/lib/python3.7/dist-packages (from requests->keras-tuner>=1.1.0->autokeras) (1.24.3)\n",
            "Requirement already satisfied: certifi>=2017.4.17 in /usr/local/lib/python3.7/dist-packages (from requests->keras-tuner>=1.1.0->autokeras) (2022.6.15)\n",
            "Requirement already satisfied: idna<3,>=2.5 in /usr/local/lib/python3.7/dist-packages (from requests->keras-tuner>=1.1.0->autokeras) (2.10)\n",
            "Requirement already satisfied: chardet<4,>=3.0.2 in /usr/local/lib/python3.7/dist-packages (from requests->keras-tuner>=1.1.0->autokeras) (3.0.4)\n",
            "Requirement already satisfied: oauthlib>=3.0.0 in /usr/local/lib/python3.7/dist-packages (from requests-oauthlib>=0.7.0->google-auth-oauthlib<0.5,>=0.4.1->tensorboard->keras-tuner>=1.1.0->autokeras) (3.2.0)\n",
            "Collecting jedi>=0.10\n",
            "  Downloading jedi-0.18.1-py2.py3-none-any.whl (1.6 MB)\n",
            "\u001b[K     |████████████████████████████████| 1.6 MB 50.6 MB/s \n",
            "\u001b[?25hRequirement already satisfied: pygments in /usr/local/lib/python3.7/dist-packages (from ipython->keras-tuner>=1.1.0->autokeras) (2.6.1)\n",
            "Requirement already satisfied: backcall in /usr/local/lib/python3.7/dist-packages (from ipython->keras-tuner>=1.1.0->autokeras) (0.2.0)\n",
            "Requirement already satisfied: pickleshare in /usr/local/lib/python3.7/dist-packages (from ipython->keras-tuner>=1.1.0->autokeras) (0.7.5)\n",
            "Requirement already satisfied: prompt-toolkit<2.1.0,>=2.0.0 in /usr/local/lib/python3.7/dist-packages (from ipython->keras-tuner>=1.1.0->autokeras) (2.0.10)\n",
            "Requirement already satisfied: pexpect in /usr/local/lib/python3.7/dist-packages (from ipython->keras-tuner>=1.1.0->autokeras) (4.8.0)\n",
            "Requirement already satisfied: traitlets>=4.2 in /usr/local/lib/python3.7/dist-packages (from ipython->keras-tuner>=1.1.0->autokeras) (5.1.1)\n",
            "Requirement already satisfied: decorator in /usr/local/lib/python3.7/dist-packages (from ipython->keras-tuner>=1.1.0->autokeras) (4.4.2)\n",
            "Requirement already satisfied: parso<0.9.0,>=0.8.0 in /usr/local/lib/python3.7/dist-packages (from jedi>=0.10->ipython->keras-tuner>=1.1.0->autokeras) (0.8.3)\n",
            "Requirement already satisfied: wcwidth in /usr/local/lib/python3.7/dist-packages (from prompt-toolkit<2.1.0,>=2.0.0->ipython->keras-tuner>=1.1.0->autokeras) (0.2.5)\n",
            "Requirement already satisfied: pyparsing!=3.0.5,>=2.0.2 in /usr/local/lib/python3.7/dist-packages (from packaging->autokeras) (3.0.9)\n",
            "Requirement already satisfied: pytz>=2017.3 in /usr/local/lib/python3.7/dist-packages (from pandas->autokeras) (2022.2.1)\n",
            "Requirement already satisfied: python-dateutil>=2.7.3 in /usr/local/lib/python3.7/dist-packages (from pandas->autokeras) (2.8.2)\n",
            "Requirement already satisfied: ptyprocess>=0.5 in /usr/local/lib/python3.7/dist-packages (from pexpect->ipython->keras-tuner>=1.1.0->autokeras) (0.7.0)\n",
            "Installing collected packages: jedi, kt-legacy, keras-tuner, autokeras\n",
            "Successfully installed autokeras-1.0.20 jedi-0.18.1 keras-tuner-1.1.3 kt-legacy-1.0.4\n"
          ]
        }
      ],
      "source": [
        "!pip install autokeras"
      ]
    },
    {
      "cell_type": "code",
      "source": [
        "import numpy as np\n",
        "import pandas as pd\n",
        "import tensorflow as tf\n",
        "from sklearn.datasets import fetch_california_housing\n",
        "\n",
        "import autokeras as ak"
      ],
      "metadata": {
        "id": "CctY8I74N3Mx"
      },
      "execution_count": 6,
      "outputs": []
    },
    {
      "cell_type": "code",
      "source": [
        "house_dataset = fetch_california_housing()\n",
        "df = pd.DataFrame(\n",
        "    np.concatenate(\n",
        "        (house_dataset.data, house_dataset.target.reshape(-1, 1)), axis=1\n",
        "    ),\n",
        "    columns=house_dataset.feature_names + [\"Price\"],\n",
        ")\n",
        "train_size = int(df.shape[0] * 0.9)\n",
        "df[:train_size].to_csv(\"train.csv\", index=False)\n",
        "df[train_size:].to_csv(\"eval.csv\", index=False)\n",
        "train_file_path = \"train.csv\"\n",
        "test_file_path = \"eval.csv\""
      ],
      "metadata": {
        "id": "336y_M5yN3Px"
      },
      "execution_count": 7,
      "outputs": []
    },
    {
      "cell_type": "markdown",
      "source": [
        "The second step is to run the StructuredDataRegressor. As a quick demo, we set epochs to 10. You can also leave the epochs unspecified for an adaptive number of epochs.\n",
        "\n",
        "\n"
      ],
      "metadata": {
        "id": "SG57nY59Rbso"
      }
    },
    {
      "cell_type": "code",
      "source": [
        "# Initialize the structured data regressor.\n",
        "reg = ak.StructuredDataRegressor(\n",
        "    overwrite=True, max_trials=3\n",
        ")  # It tries 3 different models.\n",
        "# Feed the structured data regressor with training data.\n",
        "reg.fit(\n",
        "    # The path to the train.csv file.\n",
        "    train_file_path,\n",
        "    # The name of the label column.\n",
        "    \"Price\",\n",
        "    epochs=10,\n",
        ")\n",
        "# Predict with the best model.\n",
        "predicted_y = reg.predict(test_file_path)\n",
        "# Evaluate the best model with testing data.\n",
        "print(reg.evaluate(test_file_path, \"Price\"))\n"
      ],
      "metadata": {
        "colab": {
          "base_uri": "https://localhost:8080/"
        },
        "id": "xjPO9y5pMzRK",
        "outputId": "742df673-f7ed-4cef-a51a-225023f92bce"
      },
      "execution_count": 8,
      "outputs": [
        {
          "output_type": "stream",
          "name": "stdout",
          "text": [
            "Trial 3 Complete [00h 00m 30s]\n",
            "val_loss: 1.5738937854766846\n",
            "\n",
            "Best val_loss So Far: 0.8822022676467896\n",
            "Total elapsed time: 00h 01m 23s\n",
            "Epoch 1/10\n",
            "581/581 [==============================] - 2s 2ms/step - loss: 1.1125 - mean_squared_error: 1.1125\n",
            "Epoch 2/10\n",
            "581/581 [==============================] - 1s 2ms/step - loss: 0.6259 - mean_squared_error: 0.6259\n",
            "Epoch 3/10\n",
            "581/581 [==============================] - 1s 2ms/step - loss: 0.5521 - mean_squared_error: 0.5521\n",
            "Epoch 4/10\n",
            "581/581 [==============================] - 1s 2ms/step - loss: 0.5310 - mean_squared_error: 0.5310\n",
            "Epoch 5/10\n",
            "581/581 [==============================] - 2s 3ms/step - loss: 0.5185 - mean_squared_error: 0.5185\n",
            "Epoch 6/10\n",
            "581/581 [==============================] - 1s 2ms/step - loss: 0.5086 - mean_squared_error: 0.5086\n",
            "Epoch 7/10\n",
            "581/581 [==============================] - 1s 2ms/step - loss: 0.5013 - mean_squared_error: 0.5013\n",
            "Epoch 8/10\n",
            "581/581 [==============================] - 1s 2ms/step - loss: 0.4929 - mean_squared_error: 0.4929\n",
            "Epoch 9/10\n",
            "581/581 [==============================] - 2s 3ms/step - loss: 0.4863 - mean_squared_error: 0.4863\n",
            "Epoch 10/10\n",
            "581/581 [==============================] - 1s 2ms/step - loss: 0.4820 - mean_squared_error: 0.4820\n",
            "65/65 [==============================] - 0s 2ms/step\n",
            "65/65 [==============================] - 0s 2ms/step - loss: 0.5721 - mean_squared_error: 0.5721\n",
            "[0.5721474885940552, 0.5721474885940552]\n"
          ]
        }
      ]
    },
    {
      "cell_type": "markdown",
      "source": [
        "Data Format"
      ],
      "metadata": {
        "id": "HWAY9r27RieO"
      }
    },
    {
      "cell_type": "code",
      "source": [
        "# x_train as pandas.DataFrame, y_train as pandas.Series\n",
        "x_train = pd.read_csv(train_file_path)\n",
        "print(type(x_train))  # pandas.DataFrame\n",
        "y_train = x_train.pop(\"Price\")\n",
        "print(type(y_train))  # pandas.Series\n",
        "\n",
        "# You can also use pandas.DataFrame for y_train.\n",
        "y_train = pd.DataFrame(y_train)\n",
        "print(type(y_train))  # pandas.DataFrame\n",
        "\n",
        "# You can also use numpy.ndarray for x_train and y_train.\n",
        "x_train = x_train.to_numpy()\n",
        "y_train = y_train.to_numpy()\n",
        "print(type(x_train))  # numpy.ndarray\n",
        "print(type(y_train))  # numpy.ndarray\n",
        "\n",
        "# Preparing testing data.\n",
        "x_test = pd.read_csv(test_file_path)\n",
        "y_test = x_test.pop(\"Price\")\n",
        "\n",
        "# It tries 10 different models.\n",
        "reg = ak.StructuredDataRegressor(max_trials=3, overwrite=True)\n",
        "# Feed the structured data regressor with training data.\n",
        "reg.fit(x_train, y_train, epochs=10)\n",
        "# Predict with the best model.\n",
        "predicted_y = reg.predict(x_test)\n",
        "# Evaluate the best model with testing data.\n",
        "print(reg.evaluate(x_test, y_test))\n"
      ],
      "metadata": {
        "colab": {
          "base_uri": "https://localhost:8080/"
        },
        "id": "fZN6sjNAOjU5",
        "outputId": "86af1a81-73fe-4eec-f447-df35549ff7f6"
      },
      "execution_count": 9,
      "outputs": [
        {
          "output_type": "stream",
          "name": "stdout",
          "text": [
            "Trial 3 Complete [00h 00m 20s]\n",
            "val_loss: 1.0395352840423584\n",
            "\n",
            "Best val_loss So Far: 0.9117365479469299\n",
            "Total elapsed time: 00h 01m 07s\n",
            "Epoch 1/10\n",
            "581/581 [==============================] - 2s 2ms/step - loss: 1.2315 - mean_squared_error: 1.2315\n",
            "Epoch 2/10\n",
            "581/581 [==============================] - 1s 2ms/step - loss: 0.6262 - mean_squared_error: 0.6262\n",
            "Epoch 3/10\n",
            "581/581 [==============================] - 1s 2ms/step - loss: 0.5549 - mean_squared_error: 0.5549\n",
            "Epoch 4/10\n",
            "581/581 [==============================] - 1s 2ms/step - loss: 0.5320 - mean_squared_error: 0.5320\n",
            "Epoch 5/10\n",
            "581/581 [==============================] - 1s 2ms/step - loss: 0.5200 - mean_squared_error: 0.5200\n",
            "Epoch 6/10\n",
            "581/581 [==============================] - 1s 2ms/step - loss: 0.5069 - mean_squared_error: 0.5069\n",
            "Epoch 7/10\n",
            "581/581 [==============================] - 1s 2ms/step - loss: 0.4982 - mean_squared_error: 0.4982\n",
            "Epoch 8/10\n",
            "581/581 [==============================] - 1s 2ms/step - loss: 0.4921 - mean_squared_error: 0.4921\n",
            "Epoch 9/10\n",
            "581/581 [==============================] - 1s 2ms/step - loss: 0.4867 - mean_squared_error: 0.4867\n",
            "Epoch 10/10\n",
            "581/581 [==============================] - 1s 2ms/step - loss: 0.4822 - mean_squared_error: 0.4822\n",
            "65/65 [==============================] - 0s 2ms/step\n",
            "65/65 [==============================] - 0s 2ms/step - loss: 0.5801 - mean_squared_error: 0.5801\n",
            "[0.5801283121109009, 0.5801283121109009]\n"
          ]
        }
      ]
    },
    {
      "cell_type": "markdown",
      "source": [
        "convert numpy.ndarray to tf.data.Dataset."
      ],
      "metadata": {
        "id": "3BPSeKkVRsF0"
      }
    },
    {
      "cell_type": "code",
      "source": [
        "train_set = tf.data.Dataset.from_tensor_slices((x_train, y_train))\n",
        "test_set = tf.data.Dataset.from_tensor_slices((x_test, y_test))\n",
        "\n",
        "reg = ak.StructuredDataRegressor(max_trials=3, overwrite=True)\n",
        "# Feed the tensorflow Dataset to the regressor.\n",
        "reg.fit(train_set, epochs=10)\n",
        "# Predict with the best model.\n",
        "predicted_y = reg.predict(test_set)\n",
        "# Evaluate the best model with testing data.\n",
        "print(reg.evaluate(test_set))\n"
      ],
      "metadata": {
        "colab": {
          "base_uri": "https://localhost:8080/"
        },
        "id": "s-NiGT_0OjXm",
        "outputId": "94ff3c66-66b6-4a32-f0d4-1289e75e5511"
      },
      "execution_count": 10,
      "outputs": [
        {
          "output_type": "stream",
          "name": "stdout",
          "text": [
            "Trial 3 Complete [00h 00m 37s]\n",
            "val_loss: 1.1260777711868286\n",
            "\n",
            "Best val_loss So Far: 0.9189949631690979\n",
            "Total elapsed time: 00h 02m 00s\n",
            "Epoch 1/10\n",
            "581/581 [==============================] - 3s 4ms/step - loss: 1.2488 - mean_squared_error: 1.2488\n",
            "Epoch 2/10\n",
            "581/581 [==============================] - 2s 4ms/step - loss: 0.6109 - mean_squared_error: 0.6109\n",
            "Epoch 3/10\n",
            "581/581 [==============================] - 2s 3ms/step - loss: 0.5530 - mean_squared_error: 0.5530\n",
            "Epoch 4/10\n",
            "581/581 [==============================] - 2s 3ms/step - loss: 0.5352 - mean_squared_error: 0.5352\n",
            "Epoch 5/10\n",
            "581/581 [==============================] - 2s 3ms/step - loss: 0.5258 - mean_squared_error: 0.5258\n",
            "Epoch 6/10\n",
            "581/581 [==============================] - 2s 3ms/step - loss: 0.5177 - mean_squared_error: 0.5177\n",
            "Epoch 7/10\n",
            "581/581 [==============================] - 2s 3ms/step - loss: 0.5108 - mean_squared_error: 0.5108\n",
            "Epoch 8/10\n",
            "581/581 [==============================] - 2s 3ms/step - loss: 0.5061 - mean_squared_error: 0.5061\n",
            "Epoch 9/10\n",
            "581/581 [==============================] - 2s 3ms/step - loss: 0.5006 - mean_squared_error: 0.5006\n",
            "Epoch 10/10\n",
            "581/581 [==============================] - 2s 4ms/step - loss: 0.4962 - mean_squared_error: 0.4962\n",
            "65/65 [==============================] - 0s 2ms/step\n",
            "65/65 [==============================] - 0s 2ms/step - loss: 0.6255 - mean_squared_error: 0.6255\n",
            "[0.625528872013092, 0.625528872013092]\n"
          ]
        }
      ]
    },
    {
      "cell_type": "markdown",
      "source": [
        "You can also specify the column names and types for the data as follows"
      ],
      "metadata": {
        "id": "8rbR-dccR3ND"
      }
    },
    {
      "cell_type": "code",
      "source": [
        "# Initialize the structured data regressor.\n",
        "reg = ak.StructuredDataRegressor(\n",
        "    column_names=[\n",
        "        \"MedInc\",\n",
        "        \"HouseAge\",\n",
        "        \"AveRooms\",\n",
        "        \"AveBedrms\",\n",
        "        \"Population\",\n",
        "        \"AveOccup\",\n",
        "        \"Latitude\",\n",
        "        \"Longitude\",\n",
        "    ],\n",
        "    column_types={\"MedInc\": \"numerical\", \"Latitude\": \"numerical\"},\n",
        "    max_trials=10,  # It tries 10 different models.\n",
        "    overwrite=True,\n",
        ")\n"
      ],
      "metadata": {
        "id": "dWSQVpgTOjav"
      },
      "execution_count": 11,
      "outputs": []
    },
    {
      "cell_type": "markdown",
      "source": [
        "Validation of Data"
      ],
      "metadata": {
        "id": "865hmduyR_L0"
      }
    },
    {
      "cell_type": "markdown",
      "source": [
        "By default, AutoKeras use the last 20% of training data as validation data. As shown in the example below, you can use validation_split to specify the percentage."
      ],
      "metadata": {
        "id": "q8rgAkXDSKr-"
      }
    },
    {
      "cell_type": "code",
      "source": [
        "reg.fit(\n",
        "    x_train,\n",
        "    y_train,\n",
        "    # Split the training data and use the last 15% as validation data.\n",
        "    validation_split=0.15,\n",
        "    epochs=10,\n",
        ")\n"
      ],
      "metadata": {
        "colab": {
          "base_uri": "https://localhost:8080/"
        },
        "id": "VqUkYAgPSN2e",
        "outputId": "b242c0b5-c53c-42a0-8eea-a679214f8df2"
      },
      "execution_count": 12,
      "outputs": [
        {
          "output_type": "stream",
          "name": "stdout",
          "text": [
            "Trial 10 Complete [00h 00m 28s]\n",
            "val_loss: 0.8608582019805908\n",
            "\n",
            "Best val_loss So Far: 0.8243456482887268\n",
            "Total elapsed time: 00h 04m 37s\n",
            "Epoch 1/10\n",
            "581/581 [==============================] - 2s 2ms/step - loss: 1.2686 - mean_squared_error: 1.2686\n",
            "Epoch 2/10\n",
            "581/581 [==============================] - 1s 3ms/step - loss: 0.6345 - mean_squared_error: 0.6345\n",
            "Epoch 3/10\n",
            "581/581 [==============================] - 1s 2ms/step - loss: 0.5744 - mean_squared_error: 0.5744\n",
            "Epoch 4/10\n",
            "581/581 [==============================] - 1s 3ms/step - loss: 0.5441 - mean_squared_error: 0.5441\n",
            "Epoch 5/10\n",
            "581/581 [==============================] - 1s 2ms/step - loss: 0.5285 - mean_squared_error: 0.5285\n",
            "Epoch 6/10\n",
            "581/581 [==============================] - 1s 2ms/step - loss: 0.5182 - mean_squared_error: 0.5182\n",
            "Epoch 7/10\n",
            "581/581 [==============================] - 1s 2ms/step - loss: 0.5117 - mean_squared_error: 0.5117\n",
            "Epoch 8/10\n",
            "581/581 [==============================] - 1s 2ms/step - loss: 0.5059 - mean_squared_error: 0.5059\n",
            "Epoch 9/10\n",
            "581/581 [==============================] - 1s 2ms/step - loss: 0.4999 - mean_squared_error: 0.4999\n",
            "Epoch 10/10\n",
            "581/581 [==============================] - 1s 2ms/step - loss: 0.4953 - mean_squared_error: 0.4953\n"
          ]
        },
        {
          "output_type": "execute_result",
          "data": {
            "text/plain": [
              "<keras.callbacks.History at 0x7f0de6f296d0>"
            ]
          },
          "metadata": {},
          "execution_count": 12
        }
      ]
    },
    {
      "cell_type": "markdown",
      "source": [],
      "metadata": {
        "id": "YyBCH3eRSYX9"
      }
    },
    {
      "cell_type": "code",
      "source": [
        "model = reg.export_model()\n",
        "model.summary()\n",
        "# numpy array in object (mixed type) is not supported.\n",
        "# you need convert it to unicode or float first.\n",
        "model.predict(x_train)\n"
      ],
      "metadata": {
        "colab": {
          "base_uri": "https://localhost:8080/"
        },
        "id": "61Lh0V15SN5f",
        "outputId": "3779a093-8d62-4953-981c-c277bf5a57b3"
      },
      "execution_count": 13,
      "outputs": [
        {
          "output_type": "stream",
          "name": "stdout",
          "text": [
            "Model: \"model\"\n",
            "_________________________________________________________________\n",
            " Layer (type)                Output Shape              Param #   \n",
            "=================================================================\n",
            " input_1 (InputLayer)        [(None, 8)]               0         \n",
            "                                                                 \n",
            " multi_category_encoding (Mu  (None, 8)                0         \n",
            " ltiCategoryEncoding)                                            \n",
            "                                                                 \n",
            " normalization (Normalizatio  (None, 8)                17        \n",
            " n)                                                              \n",
            "                                                                 \n",
            " dense (Dense)               (None, 32)                288       \n",
            "                                                                 \n",
            " re_lu (ReLU)                (None, 32)                0         \n",
            "                                                                 \n",
            " dense_1 (Dense)             (None, 32)                1056      \n",
            "                                                                 \n",
            " re_lu_1 (ReLU)              (None, 32)                0         \n",
            "                                                                 \n",
            " dense_2 (Dense)             (None, 32)                1056      \n",
            "                                                                 \n",
            " re_lu_2 (ReLU)              (None, 32)                0         \n",
            "                                                                 \n",
            " regression_head_1 (Dense)   (None, 1)                 33        \n",
            "                                                                 \n",
            "=================================================================\n",
            "Total params: 2,450\n",
            "Trainable params: 2,433\n",
            "Non-trainable params: 17\n",
            "_________________________________________________________________\n"
          ]
        },
        {
          "output_type": "execute_result",
          "data": {
            "text/plain": [
              "array([[4.70792  ],\n",
              "       [5.000969 ],\n",
              "       [4.408681 ],\n",
              "       ...,\n",
              "       [1.2937664],\n",
              "       [1.0701051],\n",
              "       [1.6324224]], dtype=float32)"
            ]
          },
          "metadata": {},
          "execution_count": 13
        }
      ]
    },
    {
      "cell_type": "code",
      "source": [],
      "metadata": {
        "id": "yhmVdzOVSONX"
      },
      "execution_count": null,
      "outputs": []
    },
    {
      "cell_type": "code",
      "source": [],
      "metadata": {
        "id": "Y-8HpEaPSOQI"
      },
      "execution_count": null,
      "outputs": []
    }
  ]
}